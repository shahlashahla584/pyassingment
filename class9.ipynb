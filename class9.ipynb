{
 "cells": [
  {
   "cell_type": "markdown",
   "metadata": {},
   "source": [
    "short Hand if Else/Ternary Operators"
   ]
  },
  {
   "cell_type": "code",
   "execution_count": 1,
   "metadata": {},
   "outputs": [
    {
     "name": "stdout",
     "output_type": "stream",
     "text": [
      "number is less than 10\n"
     ]
    }
   ],
   "source": [
    "num: int = 9\n",
    "\n",
    "if num > 10:\n",
    "     print(\"number is greater than 10\")\n",
    "     num = num + 10\n",
    "     print(\"num>>>\",num)\n",
    "else:\n",
    "    print(\"number is less than 10\")"
   ]
  },
  {
   "cell_type": "code",
   "execution_count": 2,
   "metadata": {},
   "outputs": [
    {
     "name": "stdout",
     "output_type": "stream",
     "text": [
      "number is less than 10\n"
     ]
    }
   ],
   "source": [
    "# if condition:\n",
    "#  statement\n",
    "# else:\n",
    "# statement\n",
    "\n",
    "# ifstatement if condition else else statement\n",
    "num : int = 9\n",
    "print(\"num is greater than 10\") if num > 10 else print(\"number is less than 10\")\n"
   ]
  },
  {
   "cell_type": "code",
   "execution_count": 3,
   "metadata": {},
   "outputs": [
    {
     "name": "stdout",
     "output_type": "stream",
     "text": [
      "num2>>> 20\n"
     ]
    }
   ],
   "source": [
    "num = 5\n",
    "\n",
    "# num2 = ager condition true to value 20 wrna value 10\n",
    "num2 = 20 if num < 10 else 5\n",
    "\n",
    "print(\"num2>>>\",num2)"
   ]
  },
  {
   "cell_type": "markdown",
   "metadata": {},
   "source": [
    "Enumerated Function"
   ]
  },
  {
   "cell_type": "code",
   "execution_count": 5,
   "metadata": {},
   "outputs": [
    {
     "name": "stdout",
     "output_type": "stream",
     "text": [
      "abdullah\n",
      "index 0\n",
      "ali\n",
      "index 1\n",
      "abdullah\n",
      "index 2\n",
      "amir\n"
     ]
    }
   ],
   "source": [
    "names = [\"ali\", \"abdullah\",\"amir\"]\n",
    "#          0  ,       1    ,  2\n",
    "\n",
    "print(names[1])\n",
    "\n",
    "index = 0\n",
    "for name in names:\n",
    "    print(\"index\",index)\n",
    "    print(name)\n",
    "    index = index + 1\n"
   ]
  },
  {
   "cell_type": "code",
   "execution_count": 6,
   "metadata": {},
   "outputs": [
    {
     "name": "stdout",
     "output_type": "stream",
     "text": [
      "name0: ali\n",
      "name1: abdulah\n",
      "name2: aamir\n"
     ]
    }
   ],
   "source": [
    "names = [\"ali\", \"abdulah\", \"aamir\"]\n",
    "\n",
    "index = 0\n",
    "for name in names:\n",
    "    print(f\"name{index}: {name}\")\n",
    "    index = index+1"
   ]
  },
  {
   "cell_type": "code",
   "execution_count": 7,
   "metadata": {},
   "outputs": [
    {
     "name": "stdout",
     "output_type": "stream",
     "text": [
      "name0:ali\n",
      "Assalamualaikum Abdullah\n",
      "name1:abdullah\n",
      "name2:amir\n"
     ]
    }
   ],
   "source": [
    "names = [\"ali\", \"abdullah\", \"amir\"]\n",
    "# names[1] == \"abdullah\"\n",
    "# index = 0\n",
    "# for name in names:\n",
    "#     print(f\"name{index}:{name}\")\n",
    "#     index = index+1\n",
    "\n",
    "# [(0,\"ali\"),(1,\"adullah\"),(2,\"aamir\")]\n",
    "for index,name in enumerate(names):\n",
    "    # names[0]  = ali 1st time loop\n",
    "    # names[1] = abdullah 2nd time loop\n",
    "    #      abdullah   ==  \"abdullah\"\n",
    "    if names[index] == \"abdullah\":\n",
    "        print(\"Assalamualaikum Abdullah\")\n",
    "\n",
    "    print(f\"name{index}:{name}\")"
   ]
  },
  {
   "cell_type": "markdown",
   "metadata": {},
   "source": [
    "map. filter, reduce function"
   ]
  },
  {
   "cell_type": "code",
   "execution_count": 9,
   "metadata": {},
   "outputs": [
    {
     "name": "stdout",
     "output_type": "stream",
     "text": [
      "new_list before for loop []\n",
      "num>>> 1\n",
      "calling square function\n",
      "num_sqr>>> 1\n",
      "adding element to list\n",
      "num>>> 2\n",
      "calling square function\n",
      "num_sqr>>> 4\n",
      "adding element to list\n",
      "num>>> 3\n",
      "calling square function\n",
      "num_sqr>>> 9\n",
      "adding element to list\n",
      "num>>> 4\n",
      "calling square function\n",
      "num_sqr>>> 16\n",
      "adding element to list\n",
      "num>>> 5\n",
      "calling square function\n",
      "num_sqr>>> 25\n",
      "adding element to list\n",
      "new_list after for loop [1, 4, 9, 16, 25]\n"
     ]
    }
   ],
   "source": [
    "numbers = [1,2,3,4,5]\n",
    "#         [1, 4, 9, 10, 25]\n",
    "\n",
    "def square(num: int):\n",
    "    return num* num\n",
    "\n",
    "new_list = []\n",
    "print(\"new_list before for loop\",new_list)\n",
    "for num in numbers:\n",
    "    print(\"num>>>\",num)\n",
    "    print(\"calling square function\")\n",
    "    num_sqr = square(num)\n",
    "    print(\"num_sqr>>>\",num_sqr)\n",
    "    print(\"adding element to list\")\n",
    "    new_list.append(num_sqr)\n",
    "#   print(square(2))\n",
    "\n",
    "print(\"new_list after for loop\",new_list)\n",
    "\n",
    "\n"
   ]
  },
  {
   "cell_type": "markdown",
   "metadata": {},
   "source": [
    "Map"
   ]
  },
  {
   "cell_type": "code",
   "execution_count": 10,
   "metadata": {},
   "outputs": [
    {
     "name": "stdout",
     "output_type": "stream",
     "text": [
      "numbers [1, 2, 3, 4, 5]\n",
      "new_list [1, 4, 9, 16, 25]\n"
     ]
    }
   ],
   "source": [
    "numbers = [1,2,3,4,5]\n",
    "#       [1, 4, 9, 16, 25]\n",
    "\n",
    "def square(num: int):\n",
    "    return num * num\n",
    "\n",
    "new_list =list(map(square,numbers))\n",
    "print(\"numbers\",numbers)\n",
    "print(\"new_list\",new_list)"
   ]
  },
  {
   "cell_type": "markdown",
   "metadata": {},
   "source": [
    "filter"
   ]
  },
  {
   "cell_type": "code",
   "execution_count": 11,
   "metadata": {},
   "outputs": [
    {
     "name": "stdout",
     "output_type": "stream",
     "text": [
      "filtered_list [4, 5]\n"
     ]
    }
   ],
   "source": [
    "numbers = [1,2,3,4,5]\n",
    "\n",
    "def filter_function(num: int):\n",
    "    return num > 3\n",
    "\n",
    "filtered_list = list(filter(filter_function,numbers))\n",
    "print(\"filtered_list\",filtered_list)"
   ]
  },
  {
   "cell_type": "markdown",
   "metadata": {},
   "source": [
    "map"
   ]
  },
  {
   "cell_type": "code",
   "execution_count": 12,
   "metadata": {},
   "outputs": [
    {
     "name": "stdout",
     "output_type": "stream",
     "text": [
      "filtered_list [False, False, False, True, True]\n"
     ]
    }
   ],
   "source": [
    "numbers = [1,2,3,4,5]\n",
    "\n",
    "def filter_function(num: int):\n",
    "    return num > 3\n",
    "\n",
    "filtered_list = list(map(filter_function,numbers))\n",
    "print(\"filtered_list\",filtered_list)\n",
    "\n"
   ]
  }
 ],
 "metadata": {
  "kernelspec": {
   "display_name": "base",
   "language": "python",
   "name": "python3"
  },
  "language_info": {
   "codemirror_mode": {
    "name": "ipython",
    "version": 3
   },
   "file_extension": ".py",
   "mimetype": "text/x-python",
   "name": "python",
   "nbconvert_exporter": "python",
   "pygments_lexer": "ipython3",
   "version": "3.11.5"
  }
 },
 "nbformat": 4,
 "nbformat_minor": 2
}
