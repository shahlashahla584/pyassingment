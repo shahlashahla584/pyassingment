{
 "cells": [
  {
   "cell_type": "code",
   "execution_count": null,
   "metadata": {},
   "outputs": [],
   "source": [
    "# 1- is ==\n",
    "\n",
    "# 2-Generators\n",
    "\n",
    "# 3-List Comprehension"
   ]
  },
  {
   "cell_type": "code",
   "execution_count": null,
   "metadata": {},
   "outputs": [],
   "source": [
    "# string\n",
    "# integer\n",
    "# float\n",
    "# boolean\n",
    "# list\n",
    "# tuple\n",
    "# dict\n",
    "# set\n",
    "# none"
   ]
  },
  {
   "cell_type": "markdown",
   "metadata": {},
   "source": [
    "mutable Data Types(jo change ho ske)"
   ]
  },
  {
   "cell_type": "code",
   "execution_count": null,
   "metadata": {},
   "outputs": [],
   "source": [
    "# list\n",
    "# dictionary\n",
    "# set"
   ]
  },
  {
   "cell_type": "markdown",
   "metadata": {},
   "source": [
    "immutable (jo change na ho sake)"
   ]
  },
  {
   "cell_type": "code",
   "execution_count": null,
   "metadata": {},
   "outputs": [],
   "source": [
    "# string\n",
    "# integar\n",
    "# boolean\n",
    "# tuple\n",
    "# float\n",
    "# none"
   ]
  },
  {
   "cell_type": "code",
   "execution_count": 2,
   "metadata": {},
   "outputs": [
    {
     "name": "stdout",
     "output_type": "stream",
     "text": [
      "['samosa', 'pakora', 'fruit chat', 'ice cream']\n"
     ]
    }
   ],
   "source": [
    "dishes = [\"samosa\", \"pakora\", \"fruit chat\"]\n",
    "dishes.append(\"ice cream\")\n",
    "print(dishes)"
   ]
  },
  {
   "cell_type": "code",
   "execution_count": 3,
   "metadata": {},
   "outputs": [
    {
     "name": "stdout",
     "output_type": "stream",
     "text": [
      "sana Ali\n"
     ]
    }
   ],
   "source": [
    "name: str = \"sana Ali\"\n",
    "number: int = 20\n",
    "\n",
    "print(name)"
   ]
  },
  {
   "cell_type": "code",
   "execution_count": 4,
   "metadata": {},
   "outputs": [
    {
     "name": "stdout",
     "output_type": "stream",
     "text": [
      "True\n",
      "False\n"
     ]
    }
   ],
   "source": [
    "list1 = [1,2,3,4,5]\n",
    "list2 = [1,2,3,4,5]\n",
    "\n",
    "print(list1 == list2)\n",
    "print(list1 is list2)"
   ]
  },
  {
   "cell_type": "code",
   "execution_count": 5,
   "metadata": {},
   "outputs": [
    {
     "name": "stdout",
     "output_type": "stream",
     "text": [
      "True\n",
      "True\n"
     ]
    }
   ],
   "source": [
    "list1 = [1,2,3,4,5]\n",
    "list2 = list1\n",
    "\n",
    "print(list1 == list2)\n",
    "print(list1 is list2)"
   ]
  },
  {
   "cell_type": "code",
   "execution_count": 2,
   "metadata": {},
   "outputs": [
    {
     "name": "stdout",
     "output_type": "stream",
     "text": [
      "False\n",
      "False\n",
      "True\n"
     ]
    }
   ],
   "source": [
    "name1 = \"Sana how are you? i am fine\"\n",
    "name2 = \"Sana how are you? i am fine\"\n",
    "num1  = 2.5\n",
    "num2 = 2.5\n",
    "\n",
    "bool1 = True\n",
    "bool2 = True\n",
    "\n",
    "print(name1 is name2)\n",
    "print(num1 is num2)\n",
    "print(bool1 is bool2)\n"
   ]
  },
  {
   "cell_type": "code",
   "execution_count": 10,
   "metadata": {},
   "outputs": [
    {
     "name": "stdout",
     "output_type": "stream",
     "text": [
      "list2>>> [1, 2, 3, 4, 5, 6]\n"
     ]
    }
   ],
   "source": [
    "List1 = [1,2,3,4,5]\n",
    "list2 = list1 # list ka reference\n",
    "list1.append(6) # [1,2,3,4,5,6]\n",
    "\n",
    "print(\"list2>>>\",list2) # list ka reference"
   ]
  },
  {
   "cell_type": "code",
   "execution_count": 12,
   "metadata": {},
   "outputs": [
    {
     "name": "stdout",
     "output_type": "stream",
     "text": [
      "I am fine\n"
     ]
    }
   ],
   "source": [
    "value1: str = \"how are you?\"\n",
    "value2: str = value1 # \"how are you?\"\n",
    "\n",
    "value1 = \"I am fine\"\n",
    "value2 = value1 # \"I am fine\"\n",
    "\n",
    "print(value2)"
   ]
  },
  {
   "cell_type": "code",
   "execution_count": 18,
   "metadata": {},
   "outputs": [
    {
     "name": "stdout",
     "output_type": "stream",
     "text": [
      "[0, 1, 4, 9, 16]\n"
     ]
    }
   ],
   "source": [
    "sqr_list = []\n",
    "def get_sqr_list(n: int):\n",
    "    for num in range(0,n):  #[0,1,2,3,4]\n",
    "     # print(\"num>>>\",num)\n",
    "     sqr_num = num * num  # 0 * 0 -> 1 * 1 -> 2 * 2\n",
    "     # print(\"sqr_num>>\",sqr_num)\n",
    "     sqr_list.append(sqr_num) # [] -> [0] -> [0,1] -> [0,1,4]\n",
    "\n",
    "get_sqr_list(5)\n",
    "print(sqr_list)\n"
   ]
  },
  {
   "cell_type": "code",
   "execution_count": 22,
   "metadata": {},
   "outputs": [],
   "source": [
    "def get_sqr_list(n: int):\n",
    " # for num in range(n):\n",
    "     # num * num\n",
    "  # sqr_list = [output loop with condition]\n",
    "    # sqr_list = [num * num for num in range(n)]\n",
    "  sqr_list = [num * num for num in range(5)]\n",
    "  print(\"sqr_list>>>\",sqr_list)\n",
    "\n",
    "  get_sqr_list(5)\n",
    "\n"
   ]
  },
  {
   "cell_type": "code",
   "execution_count": 24,
   "metadata": {},
   "outputs": [
    {
     "name": "stdout",
     "output_type": "stream",
     "text": [
      "[2, 4, 6, 8, 10]\n"
     ]
    }
   ],
   "source": [
    "numbers = [1,2,3,4,5,6,7,8,9,10]\n",
    "even_numbers = []\n",
    "\n",
    "# if num % 2 ==0:\n",
    "#  print(\"number is even\")\n",
    "# print(13 % 2)\n",
    "\n",
    "for num in numbers:\n",
    "   if num % 2 == 0:\n",
    "      even_numbers.append(num)\n",
    "\n",
    "print(even_numbers)"
   ]
  },
  {
   "cell_type": "code",
   "execution_count": 26,
   "metadata": {},
   "outputs": [
    {
     "name": "stdout",
     "output_type": "stream",
     "text": [
      "[0, 1, 2, 3, 4, 5, 6, 7, 8, 9, 10]\n"
     ]
    }
   ],
   "source": [
    "def get_numbers():\n",
    "    result = []\n",
    "    for num in range(0,11):\n",
    "       result.append(num)\n",
    "    return result\n",
    "\n",
    "number_list =get_numbers()\n",
    "print(number_list)"
   ]
  },
  {
   "cell_type": "code",
   "execution_count": 32,
   "metadata": {},
   "outputs": [
    {
     "name": "stdout",
     "output_type": "stream",
     "text": [
      "num>>> 0\n",
      "num>>> 1\n",
      "num>>> 2\n",
      "num>>> 3\n",
      "num>>> 4\n",
      "num>>> 5\n",
      "num>>> 6\n",
      "num>>> 7\n",
      "num>>> 8\n",
      "num>>> 9\n",
      "num>>> 10\n"
     ]
    }
   ],
   "source": [
    "def get_generated_values():\n",
    "    for num in range(0,11):\n",
    "      yield num  # 0 -> 1\n",
    "\n",
    "\n",
    "result = get_generated_values()\n",
    "# print(next(result))\n",
    "# print(next(result))\n",
    "# print(next(result))\n",
    "# print(next(result))\n",
    "# print(next(result))\n",
    "# print(next(result))\n",
    "# print(next(result))\n",
    "# print(next(result))\n",
    "# print(next(result))\n",
    "# print(next(result))\n",
    "# print(next(result))\n",
    "\n",
    "for num in result:\n",
    "   print(\"num>>>\",num)\n",
    "\n",
    "\n",
    "# print(\"result>>\",result)\n",
    "\n",
    "\n"
   ]
  }
 ],
 "metadata": {
  "kernelspec": {
   "display_name": "base",
   "language": "python",
   "name": "python3"
  },
  "language_info": {
   "codemirror_mode": {
    "name": "ipython",
    "version": 3
   },
   "file_extension": ".py",
   "mimetype": "text/x-python",
   "name": "python",
   "nbconvert_exporter": "python",
   "pygments_lexer": "ipython3",
   "version": "3.11.5"
  }
 },
 "nbformat": 4,
 "nbformat_minor": 2
}
